{
 "cells": [
  {
   "cell_type": "code",
   "execution_count": 100,
   "metadata": {},
   "outputs": [
    {
     "name": "stdout",
     "output_type": "stream",
     "text": [
      "252\n",
      "[0.000e+00 5.121e-07 3.326e-06 6.625e-06 1.273e-05 6.190e-05 2.317e-04\n",
      " 7.133e-04 1.828e-03 2.931e-03 5.099e-03 6.973e-03 8.407e-03 9.452e-03\n",
      " 1.059e-02 1.212e-02 1.217e-02 1.135e-02 1.053e-02 1.077e-02 1.295e-02\n",
      " 1.451e-02 1.397e-02 1.399e-02 1.515e-02 1.518e-02 1.580e-02 1.753e-02\n",
      " 1.955e-02 1.965e-02 1.756e-02 1.736e-02 1.844e-02 1.546e-02 1.695e-02\n",
      " 1.310e-02 9.049e-03 9.585e-03 7.599e-03 5.290e-03 7.749e-03 1.842e-02\n",
      " 2.043e-02 1.049e-02 1.203e-02 2.515e-02 2.912e-02 2.932e-02 3.281e-02\n",
      " 2.857e-02 1.357e-02 1.101e-02 2.730e-02 3.944e-02 2.254e-02 2.280e-02\n",
      " 2.155e-02 2.043e-02 1.848e-02 1.566e-02 1.484e-02 1.387e-02 1.269e-02\n",
      " 1.201e-02 1.142e-02 1.086e-02 1.005e-02 9.309e-03 8.677e-03 7.574e-03\n",
      " 6.283e-03 5.266e-03 5.283e-03 3.719e-03 2.857e-03 2.669e-03 2.256e-03\n",
      " 2.296e-03 2.145e-03 2.133e-03 1.732e-03 1.051e-03 2.011e-03 1.818e-03\n",
      " 1.870e-03 1.557e-03 1.590e-03 1.332e-03 8.763e-04 1.144e-03 1.159e-03\n",
      " 7.733e-04 9.605e-04 9.278e-04 9.640e-04 8.342e-04 8.173e-04 7.982e-04\n",
      " 7.648e-04 7.345e-04 6.501e-04 5.179e-04 5.904e-04 5.528e-04 5.260e-04\n",
      " 3.983e-04 4.364e-04 4.437e-04 4.039e-04 3.466e-04 3.429e-04 3.385e-04\n",
      " 3.309e-04 3.097e-04 3.089e-04 3.174e-04 3.082e-04 2.986e-04 3.017e-04\n",
      " 3.014e-04 2.861e-04 2.867e-04 2.810e-04 2.627e-04 2.616e-04 2.539e-04\n",
      " 2.475e-04 2.437e-04 2.225e-04 1.699e-04 1.054e-04 6.234e-05 4.691e-05\n",
      " 5.075e-05 5.146e-05 4.400e-05 2.906e-05 3.553e-05 3.087e-05 2.858e-05\n",
      " 2.505e-05 2.064e-05 2.131e-05 1.643e-05 1.517e-05 1.432e-05 1.189e-05\n",
      " 9.923e-06 8.238e-06 7.423e-06 7.910e-06 8.326e-06 8.020e-06 7.184e-06\n",
      " 6.762e-06 6.531e-06 4.634e-06 3.404e-06 2.901e-06 2.794e-06 2.745e-06\n",
      " 2.968e-06 2.997e-06 2.678e-06 2.561e-06 2.470e-06 2.364e-06 2.211e-06\n",
      " 1.944e-06 1.632e-06 1.514e-06 1.500e-06 1.406e-06 1.288e-06 1.188e-06\n",
      " 1.086e-06 1.009e-06 9.494e-07 8.889e-07 8.403e-07 8.050e-07 7.705e-07\n",
      " 7.368e-07 7.034e-07 6.784e-07 6.614e-07 6.445e-07 6.275e-07 6.156e-07\n",
      " 6.088e-07 6.020e-07 5.952e-07 5.883e-07 5.815e-07 5.746e-07 5.677e-07\n",
      " 5.609e-07 5.540e-07 5.471e-07 5.401e-07 5.332e-07 5.263e-07 5.193e-07\n",
      " 5.070e-07 4.896e-07 4.720e-07 4.542e-07 4.279e-07 3.934e-07 3.590e-07\n",
      " 3.248e-07 2.908e-07 2.654e-07 2.478e-07 2.225e-07 1.903e-07 1.597e-07\n",
      " 1.310e-07 1.107e-07 9.719e-08 8.434e-08 7.220e-08 6.080e-08 5.024e-08\n",
      " 4.059e-08 3.193e-08 2.430e-08 1.772e-08 1.222e-08 7.869e-09 5.468e-09\n",
      " 4.232e-09 3.173e-09 2.283e-09 1.555e-09 9.826e-10 5.547e-10 3.274e-10\n",
      " 1.155e-10 2.747e-11 1.336e-11 6.747e-12 3.981e-12 2.416e-12 1.590e-12\n",
      " 9.399e-13 5.475e-13 3.569e-13 2.187e-13 1.056e-13 1.755e-14 1.915e-16]\n"
     ]
    }
   ],
   "source": [
    "import numpy as np\n",
    "\n",
    "\n",
    "filename = '../scale/sandbox/quarter_cell2.out'\n",
    "start = \"No    Energy(eV)   Flux       Flux      Adj.Flux   Adj.Flux\"\n",
    "stop  = \"NOTE: Flux values above are per unit-lethargy.\"\n",
    "\n",
    "def read_scale_out (filename):\n",
    "    upp_enrg = []\n",
    "    flux_list = []\n",
    "    with open(filename,'r') as infile:\n",
    "        copy = False\n",
    "        for line in infile:\n",
    "            \n",
    "            if line.strip() == start:\n",
    "                copy = True\n",
    "            elif line.strip() == stop:\n",
    "                copy = False\n",
    "            elif copy:\n",
    "                p = line.strip().split()\n",
    "                if p != []:\n",
    "                    upp_enrg.append(float(p[1]))  \n",
    "                    flux_list.append(float(p[2]))                \n",
    "    u_en = 1e-6*np.array (upp_enrg, dtype=float)               # Convert eV to MeV\n",
    "    flux = np.array (flux_list, dtype=float)\n",
    "    num_gr = len (u_en)\n",
    "    return u_en, flux, num_gr\n",
    "\n",
    "upp_energy, neutron_flux, num_groups = read_scale_out (filename)\n",
    "\n",
    "print (num_groups)\n",
    "#print(upp_energy)\n",
    "print(neutron_flux)\n"
   ]
  },
  {
   "cell_type": "code",
   "execution_count": null,
   "metadata": {},
   "outputs": [],
   "source": []
  }
 ],
 "metadata": {
  "kernelspec": {
   "display_name": "Python 2",
   "language": "python",
   "name": "python2"
  },
  "language_info": {
   "codemirror_mode": {
    "name": "ipython",
    "version": 2
   },
   "file_extension": ".py",
   "mimetype": "text/x-python",
   "name": "python",
   "nbconvert_exporter": "python",
   "pygments_lexer": "ipython2",
   "version": "2.7.14"
  }
 },
 "nbformat": 4,
 "nbformat_minor": 2
}
